{
 "cells": [
  {
   "cell_type": "code",
   "execution_count": null,
   "metadata": {},
   "outputs": [],
   "source": [
    "import pandas as pd\n",
    "import altair as alt"
   ]
  },
  {
   "cell_type": "code",
   "execution_count": null,
   "metadata": {},
   "outputs": [],
   "source": [
    "profile= pd.read_csv(\n",
    "    #'Results/Batch4/CaseB/dispatch_10_1_2_price_improved.csv',\n",
    "    #'Results/Batch4/CaseB/dispatch_10_1_2_price_limit.csv',\n",
    "    'Results/Batch5/CaseB/co2_3_1_2.csv',\n",
    "    #'Results/Batch5/CaseB/price_3_1_2.csv',\n",
    "\n",
    "    sep= ',',\n",
    "    index_col=False,\n",
    ")\n",
    "#profile['SoC']= ((profile['SoC']/20000)*1000).astype('float')\n",
    "profile['SoC']= ((profile['SoC']/6000)*100).astype('float')\n",
    "\n",
    "# p_solar=    10\n",
    "# p_bess=     1\n",
    "# t_bess=     2\n",
    "# e_bess=     p_bess * t_bess\n",
    "p_solar=    9\n",
    "p_bess=     3\n",
    "t_bess=     2\n",
    "e_bess=     p_bess * t_bess\n",
    "\n",
    "efficiency_charge=      0.98\n",
    "efficiency_discharge=   0.96\n",
    "efficiency_inverter=    0.97\n",
    "\n",
    "week= 24\n",
    "\n",
    "#profile.info()\n",
    "#profile[47:96]"
   ]
  },
  {
   "cell_type": "code",
   "execution_count": null,
   "metadata": {},
   "outputs": [],
   "source": [
    "profile['P_PV_to_Grid']=    profile['P_PV_to_Grid']     * efficiency_inverter\n",
    "profile['P_PV_to_Load']=    profile['P_PV_to_Load']     * efficiency_inverter\n",
    "profile['P_PV_to_BESS']=    profile['P_PV_to_BESS']     * efficiency_charge     * efficiency_inverter\n",
    "profile['P_BESS_to_Grid']=  profile['P_BESS_to_Grid']   * efficiency_discharge  * efficiency_inverter\n",
    "profile['P_BESS_to_Load']=  profile['P_BESS_to_Load']   * efficiency_discharge  * efficiency_inverter\n",
    "profile['P_Grid_to_BESS']=  profile['P_Grid_to_BESS']   * efficiency_charge     * efficiency_inverter\n",
    "\n",
    "profile= profile[:8760]\n",
    "#profile"
   ]
  },
  {
   "cell_type": "code",
   "execution_count": null,
   "metadata": {},
   "outputs": [],
   "source": [
    "price = pd.read_csv('Data/PriceCurve_SE3_2021.csv', sep = ';')\n",
    "co2_pro = pd.read_csv('Data/production_emissions.csv')\n",
    "co2_con = pd.read_csv('Data/consumption_emissions.csv')\n",
    "pv = pd.read_csv('Data/pv_sam.csv')\n",
    "load = pd.read_csv('Data/LoadCurve.csv', sep = ';')\n",
    "\n",
    "data = load\n",
    "data['Price'] = price['Grid_Price']\n",
    "data['CO_2_eq'] = co2_pro['carbon_intensity_production_avg']\n",
    "data['solar_PV'] = pv\n",
    "\n",
    "#Converting from MWh to kWh\n",
    "data['Load']= (data['Load'] * 1000)\n",
    "#solar data is already in kW, but needs to be multiplied by the scaling factor\n",
    "data['solar_PV']= (data['solar_PV']) * p_solar\n",
    "#data['Price']= (data['Price'] / 1000)\n",
    "# CO_2_eq is also already in kWh\n",
    "#data['CO_2_eq']= (data['CO_2_eq'] / 1000)\n",
    "\n",
    "data['Hour']= (data['Hour']).astype('int')\n",
    "\n",
    "#data.head(48)\n",
    "data= data.drop(data.index[0])\n",
    "data= ((data.reset_index()).drop(columns= {'Hour'})).rename(columns= {'index': 'Hour'})\n",
    "data.head(10)"
   ]
  },
  {
   "cell_type": "code",
   "execution_count": null,
   "metadata": {},
   "outputs": [],
   "source": [
    "# Select only the columns of interest\n",
    "columns_of_interest = ['Hour','P_PV_to_Load','P_PV_to_Grid','P_PV_to_BESS','P_PV_curtailment','P_BESS_to_Load','P_Grid_to_Load']\n",
    "subset_data_2= profile[columns_of_interest]\n",
    "subset_data_2= subset_data_2.fillna(0)  \n",
    "\n",
    "# Melt the DataFrame to long format\n",
    "melted_data = subset_data_2.melt(id_vars=['Hour'], var_name='source', value_name='value')\n",
    "\n",
    "alt.Chart(melted_data[4030:4201]).mark_area().encode(\n",
    "    x= alt.X('Hour'),\n",
    "    y= alt.Y(\n",
    "        'value:Q', stack= 'zero'\n",
    "    ),\n",
    "    color= alt.Color(\n",
    "        'source:N'\n",
    "    )\n",
    ")"
   ]
  },
  {
   "cell_type": "code",
   "execution_count": null,
   "metadata": {},
   "outputs": [],
   "source": [
    "subset_data_2"
   ]
  },
  {
   "cell_type": "code",
   "execution_count": null,
   "metadata": {},
   "outputs": [],
   "source": [
    "subset_data_2.info()"
   ]
  },
  {
   "cell_type": "code",
   "execution_count": null,
   "metadata": {},
   "outputs": [],
   "source": [
    "melted_data[4030:4201]['source'].unique()"
   ]
  },
  {
   "cell_type": "code",
   "execution_count": null,
   "metadata": {},
   "outputs": [],
   "source": [
    "data[:8760].describe()"
   ]
  },
  {
   "cell_type": "code",
   "execution_count": null,
   "metadata": {},
   "outputs": [],
   "source": [
    "print(f'Price Variance: {data[:8760].Price.var()}')\n",
    "print(f'Price Mean Value: {data[:8760].Price.mean()}')\n",
    "print(f'CO2eq Variance: {data[:8760].CO_2_eq.var()}')\n",
    "print(f'CO2eq Mean Value: {data[:8760].CO_2_eq.mean()}')\n",
    "print('-'*50)\n",
    "print(f'Price CoV: {data[:8760].Price.var()/data[:8760].Price.mean()}')\n",
    "print(f'CO2eq CoV: {data[:8760].CO_2_eq.var()/data[:8760].CO_2_eq.mean()}')\n",
    "print('-'*50)\n",
    "print(f'Price Standard Deviation: {data[:8760].Price.std()}')\n",
    "print(f'CO2eq Standard Deviation: {data[:8760].CO_2_eq.std()}')\n",
    "print('-'*50)\n",
    "print(f'Covariance: {data[:8760].Price.corr(data[:8760].CO_2_eq)}')"
   ]
  },
  {
   "cell_type": "code",
   "execution_count": null,
   "metadata": {},
   "outputs": [],
   "source": []
  }
 ],
 "metadata": {
  "kernelspec": {
   "display_name": "freqpy_venv",
   "language": "python",
   "name": "freqpy_venv"
  },
  "language_info": {
   "codemirror_mode": {
    "name": "ipython",
    "version": 3
   },
   "file_extension": ".py",
   "mimetype": "text/x-python",
   "name": "python",
   "nbconvert_exporter": "python",
   "pygments_lexer": "ipython3",
   "version": "3.10.5"
  }
 },
 "nbformat": 4,
 "nbformat_minor": 2
}
